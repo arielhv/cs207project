{
 "cells": [
  {
   "cell_type": "code",
   "execution_count": 32,
   "metadata": {
    "collapsed": false
   },
   "outputs": [],
   "source": [
    "import lazy\n",
    "import numpy as np\n",
    "\n",
    "class TimeSeries():\n",
    "    ''' A series of data points indexed by time.'''\n",
    "\n",
    "    def __init__(self, times, seq):\n",
    "        '''Creates a TimeSeries using the data points in `seq`.\n",
    "\n",
    "        Args:\n",
    "            seq (:obj:`sequence` of `numeric`): A sequence of data points indexed by time.\n",
    "                Time intervals are assumed to be uniform.\n",
    "\n",
    "        Example:\n",
    "            >>> ts = TimeSeries([1, 2, 3, 4])\n",
    "            >>> ts\n",
    "            TimeSeries([1,...])\n",
    "        '''\n",
    "        # raise an exception if `seq` is not iterable\n",
    "        try:\n",
    "            iter(seq)\n",
    "        except:\n",
    "            raise TypeError('`seq` must be a sequence')\n",
    "\n",
    "        self._data = list(seq)\n",
    "        self._times = list(times)\n",
    "\n",
    "    def __len__(self):\n",
    "        return len(self._data)\n",
    "\n",
    "    def __getitem__(self, key):\n",
    "        return self._data[key]\n",
    "\n",
    "    def __setitem__(self, key, value):\n",
    "        self._data[key] = value\n",
    "\n",
    "    def __repr__(self):\n",
    "        class_name = type(self).__name__\n",
    "        if len(self)==0:\n",
    "            components=\"\"\n",
    "        else:\n",
    "            components = self._data[0]\n",
    "        return '{}([{},...])'.format(class_name, components)\n",
    "\n",
    "    def __str__(self):\n",
    "        '''Returns the sequence of data points contained in the TimeSeries.'''\n",
    "        return(str(self._data))\n",
    "\n",
    "    def __iter__(self):\n",
    "        return iter(self._data)\n",
    "\n",
    "    def itertimes(self):\n",
    "        '''Returns the time indices for the TimeSeries data points'''\n",
    "        return iter(self._times[:self._length])\n",
    "\n",
    "    def iteritems(self):\n",
    "        '''Returns a tuple (time, value) for each item in the TimeSeries.'''\n",
    "        return iter(zip(self._times[:self._length], self._data[:self._length]))\n",
    "\n",
    "    def interpolate(self, interpts):\n",
    "        times = []\n",
    "        seq = []\n",
    "        for i in interpts:\n",
    "            times = sorted(enumerate(self._times), key=lambda x:abs(x[1]-i))[:2]\n",
    "            vals = [self._data[times[0][0]], self._data[times[1][0]]]\n",
    "            new_val = vals[0] + (vals[0]-vals[1])/(times[0][1]-times[1][1])\n",
    "            times.append(i)\n",
    "            seq.append(new_val)\n",
    "        return TimeSeries(times,seq)\n",
    "    \n",
    "        \n",
    "    @property\n",
    "    def lazy(self):\n",
    "        return lazy.LazyOperation(lambda x: x, self)\n",
    "\n",
    "    ##DEFINE __EQ__\n",
    "\n",
    "\n",
    "class ArrayTimeSeries(TimeSeries):\n",
    "\n",
    "    def __init__(self, times, seq):\n",
    "        '''Creates a TimeSeries using the data points in `seq`.\n",
    "        Internally, this subclass uses a numpy array for storage\n",
    "        instead of a Python list.\n",
    "\n",
    "        Args:\n",
    "            times (:obj:`sequence` of `numeric): A sequence of times,\n",
    "            each associated with a value of `seq` at same index.\n",
    "\n",
    "            seq (:obj:`sequence` of `numeric`): A sequence of data\n",
    "            points associated with corresponding index in `times`.\n",
    "\n",
    "        Example:\n",
    "            >>> ts = TimeSeries([1, 2, 3, 4])\n",
    "            >>> ts\n",
    "            TimeSeries([1,...])\n",
    "        '''\n",
    "        # raise an exception if parameters are not iterable\n",
    "        for s in [times, seq]:\n",
    "            try:\n",
    "                iter(s)\n",
    "            except:\n",
    "                raise TypeError('Both constructor parameters must be sequences.')\n",
    "\n",
    "        # raise an exception if `times` and `seq` are not of equal length\n",
    "        if len(times) != len(seq):\n",
    "            raise ValueError('Both constructor parameters must have the same length.')\n",
    "\n",
    "        # _length (int): The TimeSeries length / first empty index in the array\n",
    "        self._length = len(seq)\n",
    "\n",
    "        # Initialize array to twice the length of the sequence (room for future data)\n",
    "        self._data = np.empty(len(seq) * 2)\n",
    "        self._times = np.empty(len(seq) * 2)\n",
    "        self._data[:self._length] = seq\n",
    "        self._times[:self._length] = times\n",
    "\n",
    "    def __len__(self):\n",
    "        return self._length\n",
    "\n",
    "    def __repr__(self):\n",
    "        format_str = '{}([{}])'\n",
    "        row_str = '[{}\\t{}]'\n",
    "        add_str = ''\n",
    "\n",
    "        for i in range(self._length):\n",
    "            add_str += row_str.format(self._times[i], self._data[i])\n",
    "            if i != self._length - 1: add_str += '\\n'\n",
    "\n",
    "        class_name = type(self).__name__\n",
    "        return format_str.format(class_name, add_str)\n",
    "\n",
    "    def __getitem__(self, key):\n",
    "        if key >= self._length:\n",
    "            raise IndexError('TimeSeries index out of range.')\n",
    "        return self._data[key]\n",
    "\n",
    "    def __setitem__(self, key, value):\n",
    "        if key >= self._length:\n",
    "            raise IndexError('TimeSeries index out of range.')\n",
    "        self._data[key] = value\n",
    "\n",
    "    def __iter__(self):\n",
    "        return iter(self._data[:self._length])\n",
    "\n",
    "    def itertimes(self):\n",
    "        '''Returns an iterator over the time indices for the TimeSeries.'''\n",
    "        return iter(self._times[:self._length])\n",
    "\n",
    "    def iteritems(self):\n",
    "        '''Returns an iterator over the tuples (time, value) for each item in the TimeSeries.'''\n",
    "        return iter(zip(self._times[:self._length], self._data[:self._length]))\n"
   ]
  },
  {
   "cell_type": "code",
   "execution_count": 10,
   "metadata": {
    "collapsed": false
   },
   "outputs": [
    {
     "data": {
      "text/plain": [
       "True"
      ]
     },
     "execution_count": 10,
     "metadata": {},
     "output_type": "execute_result"
    }
   ],
   "source": [
    "isinstance( lazy.lazy_add(1,2), lazy.LazyOperation ) == True"
   ]
  },
  {
   "cell_type": "code",
   "execution_count": 13,
   "metadata": {
    "collapsed": false
   },
   "outputs": [
    {
     "name": "stdout",
     "output_type": "stream",
     "text": [
      "[1, 4, 9, 16]\n",
      "[1, 4, 9, 16]\n"
     ]
    }
   ],
   "source": [
    "x = TimeSeries([1,2,3,4],[1,4,9,16]) \n",
    "print(x) \n",
    "print(x.lazy.eval()) "
   ]
  },
  {
   "cell_type": "code",
   "execution_count": 33,
   "metadata": {
    "collapsed": false
   },
   "outputs": [
    {
     "name": "stdout",
     "output_type": "stream",
     "text": [
      "[1.2]\n",
      "False\n"
     ]
    },
    {
     "ename": "AttributeError",
     "evalue": "'TimeSeries' object has no attribute '_length'",
     "output_type": "error",
     "traceback": [
      "\u001b[0;31m---------------------------------------------------------------------------\u001b[0m",
      "\u001b[0;31mAttributeError\u001b[0m                            Traceback (most recent call last)",
      "\u001b[0;32m<ipython-input-33-d124721f1270>\u001b[0m in \u001b[0;36m<module>\u001b[0;34m()\u001b[0m\n\u001b[1;32m      4\u001b[0m \u001b[0mprint\u001b[0m \u001b[0;34m(\u001b[0m\u001b[0ma\u001b[0m\u001b[0;34m.\u001b[0m\u001b[0minterpolate\u001b[0m\u001b[0;34m(\u001b[0m\u001b[0;34m[\u001b[0m\u001b[0;36m1\u001b[0m\u001b[0;34m]\u001b[0m\u001b[0;34m)\u001b[0m\u001b[0;34m)\u001b[0m\u001b[0;34m\u001b[0m\u001b[0m\n\u001b[1;32m      5\u001b[0m \u001b[0mprint\u001b[0m \u001b[0;34m(\u001b[0m\u001b[0ma\u001b[0m\u001b[0;34m.\u001b[0m\u001b[0minterpolate\u001b[0m\u001b[0;34m(\u001b[0m\u001b[0;34m[\u001b[0m\u001b[0;36m1\u001b[0m\u001b[0;34m]\u001b[0m\u001b[0;34m)\u001b[0m \u001b[0;34m==\u001b[0m \u001b[0mTimeSeries\u001b[0m\u001b[0;34m(\u001b[0m\u001b[0;34m[\u001b[0m\u001b[0;36m1\u001b[0m\u001b[0;34m]\u001b[0m\u001b[0;34m,\u001b[0m\u001b[0;34m[\u001b[0m\u001b[0;36m1.2\u001b[0m\u001b[0;34m]\u001b[0m\u001b[0;34m)\u001b[0m\u001b[0;34m)\u001b[0m\u001b[0;34m\u001b[0m\u001b[0m\n\u001b[0;32m----> 6\u001b[0;31m \u001b[0ma\u001b[0m\u001b[0;34m.\u001b[0m\u001b[0minterpolate\u001b[0m\u001b[0;34m(\u001b[0m\u001b[0mb\u001b[0m\u001b[0;34m.\u001b[0m\u001b[0mitertimes\u001b[0m\u001b[0;34m(\u001b[0m\u001b[0;34m)\u001b[0m\u001b[0;34m)\u001b[0m \u001b[0;34m==\u001b[0m \u001b[0mTimeSeries\u001b[0m\u001b[0;34m(\u001b[0m\u001b[0;34m[\u001b[0m\u001b[0;36m2.5\u001b[0m\u001b[0;34m,\u001b[0m\u001b[0;36m7.5\u001b[0m\u001b[0;34m]\u001b[0m\u001b[0;34m,\u001b[0m \u001b[0;34m[\u001b[0m\u001b[0;36m1.5\u001b[0m\u001b[0;34m,\u001b[0m \u001b[0;36m2.5\u001b[0m\u001b[0;34m]\u001b[0m\u001b[0;34m)\u001b[0m\u001b[0;34m\u001b[0m\u001b[0m\n\u001b[0m\u001b[1;32m      7\u001b[0m \u001b[0;31m# Boundary conditions\u001b[0m\u001b[0;34m\u001b[0m\u001b[0;34m\u001b[0m\u001b[0m\n\u001b[1;32m      8\u001b[0m \u001b[0ma\u001b[0m\u001b[0;34m.\u001b[0m\u001b[0minterpolate\u001b[0m\u001b[0;34m(\u001b[0m\u001b[0;34m[\u001b[0m\u001b[0;34m-\u001b[0m\u001b[0;36m100\u001b[0m\u001b[0;34m,\u001b[0m\u001b[0;36m100\u001b[0m\u001b[0;34m]\u001b[0m\u001b[0;34m)\u001b[0m \u001b[0;34m==\u001b[0m \u001b[0mTimeSeries\u001b[0m\u001b[0;34m(\u001b[0m\u001b[0;34m[\u001b[0m\u001b[0;34m-\u001b[0m\u001b[0;36m100\u001b[0m\u001b[0;34m,\u001b[0m\u001b[0;36m100\u001b[0m\u001b[0;34m]\u001b[0m\u001b[0;34m,\u001b[0m\u001b[0;34m[\u001b[0m\u001b[0;36m1\u001b[0m\u001b[0;34m,\u001b[0m\u001b[0;36m3\u001b[0m\u001b[0;34m]\u001b[0m\u001b[0;34m)\u001b[0m\u001b[0;34m\u001b[0m\u001b[0m\n",
      "\u001b[0;32m<ipython-input-32-688e18e4ad9f>\u001b[0m in \u001b[0;36mitertimes\u001b[0;34m(self)\u001b[0m\n\u001b[1;32m     52\u001b[0m     \u001b[0;32mdef\u001b[0m \u001b[0mitertimes\u001b[0m\u001b[0;34m(\u001b[0m\u001b[0mself\u001b[0m\u001b[0;34m)\u001b[0m\u001b[0;34m:\u001b[0m\u001b[0;34m\u001b[0m\u001b[0m\n\u001b[1;32m     53\u001b[0m         \u001b[0;34m'''Returns the time indices for the TimeSeries data points'''\u001b[0m\u001b[0;34m\u001b[0m\u001b[0m\n\u001b[0;32m---> 54\u001b[0;31m         \u001b[0;32mreturn\u001b[0m \u001b[0miter\u001b[0m\u001b[0;34m(\u001b[0m\u001b[0mself\u001b[0m\u001b[0;34m.\u001b[0m\u001b[0m_times\u001b[0m\u001b[0;34m[\u001b[0m\u001b[0;34m:\u001b[0m\u001b[0mself\u001b[0m\u001b[0;34m.\u001b[0m\u001b[0m_length\u001b[0m\u001b[0;34m]\u001b[0m\u001b[0;34m)\u001b[0m\u001b[0;34m\u001b[0m\u001b[0m\n\u001b[0m\u001b[1;32m     55\u001b[0m \u001b[0;34m\u001b[0m\u001b[0m\n\u001b[1;32m     56\u001b[0m     \u001b[0;32mdef\u001b[0m \u001b[0miteritems\u001b[0m\u001b[0;34m(\u001b[0m\u001b[0mself\u001b[0m\u001b[0;34m)\u001b[0m\u001b[0;34m:\u001b[0m\u001b[0;34m\u001b[0m\u001b[0m\n",
      "\u001b[0;31mAttributeError\u001b[0m: 'TimeSeries' object has no attribute '_length'"
     ]
    }
   ],
   "source": [
    "a = TimeSeries([0,5,10], [1,2,3])\n",
    "b = TimeSeries([2.5,7.5], [100, -100])\n",
    "# Simple cases\n",
    "print (a.interpolate([1]))\n",
    "print (a.interpolate([1]) == TimeSeries([1],[1.2]))\n",
    "a.interpolate(b.itertimes()) == TimeSeries([2.5,7.5], [1.5, 2.5])\n",
    "# Boundary conditions\n",
    "a.interpolate([-100,100]) == TimeSeries([-100,100],[1,3])"
   ]
  },
  {
   "cell_type": "code",
   "execution_count": null,
   "metadata": {
    "collapsed": true
   },
   "outputs": [],
   "source": []
  }
 ],
 "metadata": {
  "anaconda-cloud": {},
  "kernelspec": {
   "display_name": "Python [conda root]",
   "language": "python",
   "name": "conda-root-py"
  },
  "language_info": {
   "codemirror_mode": {
    "name": "ipython",
    "version": 3
   },
   "file_extension": ".py",
   "mimetype": "text/x-python",
   "name": "python",
   "nbconvert_exporter": "python",
   "pygments_lexer": "ipython3",
   "version": "3.5.2"
  }
 },
 "nbformat": 4,
 "nbformat_minor": 0
}
